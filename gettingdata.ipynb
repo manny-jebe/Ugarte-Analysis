{
 "cells": [
  {
   "cell_type": "code",
   "execution_count": 1,
   "metadata": {},
   "outputs": [],
   "source": [
    "#importing packages\n",
    "import json\n",
    "import re\n",
    "import pandas as pd"
   ]
  },
  {
   "cell_type": "code",
   "execution_count": null,
   "metadata": {},
   "outputs": [],
   "source": [
    "def extract_json_from_html(html_path, save_output=False):\n",
    "    html_file = open(html_path, 'r', encoding = \"utf8\")\n",
    "    html = html_file.read()\n",
    "    html_file.close()\n",
    "    regex_pattern = r'(?<=require\\.config\\.params\\[\"args\"\\].=.)[\\s\\S]*?;'\n",
    "    data_txt = re.findall(regex_pattern, html)[0]\n",
    "\n",
    "    # add quotations for json parser\n",
    "    data_txt = data_txt.replace('matchId', '\"matchId\"')\n",
    "    data_txt = data_txt.replace('matchCentreData', '\"matchCentreData\"')\n",
    "    data_txt = data_txt.replace('matchCentreEventTypeJson', '\"matchCentreEventTypeJson\"')\n",
    "    data_txt = data_txt.replace('formationIdNameMappings', '\"formationIdNameMappings\"')\n",
    "    data_txt = data_txt.replace('};', '}')\n",
    "\n",
    "    if save_output:\n",
    "        # save json data to txt\n",
    "        output_file = open(f\"{html_path}.txt\", \"wt\")\n",
    "        n = output_file.write(data_txt)\n",
    "        output_file.close()\n",
    "\n",
    "    return data_txt"
   ]
  },
  {
   "cell_type": "code",
   "execution_count": null,
   "metadata": {},
   "outputs": [],
   "source": [
    "def extract_data_from_dict(data):\n",
    "    # load data from json\n",
    "    event_types_json = data[\"matchCentreEventTypeJson\"]\n",
    "    formation_mappings = data[\"formationIdNameMappings\"]\n",
    "    events_dict = data[\"matchCentreData\"][\"events\"]\n",
    "    teams_dict = {data[\"matchCentreData\"]['home']['teamId']: data[\"matchCentreData\"]['home']['name'],\n",
    "                  data[\"matchCentreData\"]['away']['teamId']: data[\"matchCentreData\"]['away']['name']}\n",
    "    players_dict = data[\"matchCentreData\"][\"playerIdNameDictionary\"]\n",
    "    # create players dataframe\n",
    "    players_home_df = pd.DataFrame(data[\"matchCentreData\"]['home']['players'])\n",
    "    players_home_df[\"teamId\"] = data[\"matchCentreData\"]['home']['teamId']\n",
    "    players_away_df = pd.DataFrame(data[\"matchCentreData\"]['away']['players'])\n",
    "    players_away_df[\"teamId\"] = data[\"matchCentreData\"]['away']['teamId']\n",
    "    players_df = pd.concat([players_home_df, players_away_df])\n",
    "    players_ids = data[\"matchCentreData\"][\"playerIdNameDictionary\"]\n",
    "    return events_dict, players_df, teams_dict"
   ]
  },
  {
   "cell_type": "code",
   "execution_count": null,
   "metadata": {},
   "outputs": [],
   "source": [
    "#Getting data for Nantes vs PSG from WhoScored\n",
    "match_html_path = \"Nantes 0-2 Paris Saint-Germain - Ligue 1 2023_2024 Live.htm\"\n",
    "json_data_txt = extract_json_from_html(match_html_path)\n",
    "data = json.loads(json_data_txt)\n",
    "events_dict, players_df, teams_dict = extract_data_from_dict(data)"
   ]
  },
  {
   "cell_type": "code",
   "execution_count": null,
   "metadata": {},
   "outputs": [],
   "source": [
    "def get_events_df(events_dict, players_df):\n",
    "    events = pd.DataFrame(events_dict)\n",
    "    events['eventType'] = events.apply(lambda row: row['type']['displayName'], axis=1)\n",
    "    events['outcomeType'] = events.apply(lambda row: row['outcomeType']['displayName'], axis=1)\n",
    "    events['period'] = events.apply(lambda row: row['period']['displayName'], axis = 1)\n",
    "    events['type'] = events.apply(lambda row: row['type']['displayName'], axis=1)\n",
    "    \n",
    "    events = events.merge(players_df[['playerId', 'name', 'shirtNo']], on='playerId', how='left')\n",
    "    \n",
    "    return events"
   ]
  },
  {
   "cell_type": "code",
   "execution_count": null,
   "metadata": {},
   "outputs": [],
   "source": [
    "events_df = get_events_df(events_dict, players_df)"
   ]
  },
  {
   "cell_type": "code",
   "execution_count": null,
   "metadata": {},
   "outputs": [],
   "source": [
    "#exporting the dataframe\n",
    "events_df.to_csv('NANPSG.csv')"
   ]
  }
 ],
 "metadata": {
  "kernelspec": {
   "display_name": "Python 3",
   "language": "python",
   "name": "python3"
  },
  "language_info": {
   "codemirror_mode": {
    "name": "ipython",
    "version": 3
   },
   "file_extension": ".py",
   "mimetype": "text/x-python",
   "name": "python",
   "nbconvert_exporter": "python",
   "pygments_lexer": "ipython3",
   "version": "3.12.4"
  }
 },
 "nbformat": 4,
 "nbformat_minor": 2
}
